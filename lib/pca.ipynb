{
 "cells": [
  {
   "cell_type": "code",
   "execution_count": 6,
   "metadata": {},
   "outputs": [],
   "source": [
    "import pandas as pd\n",
    "import dask.dataframe as dd\n",
    "from dask_ml import preprocessing\n",
    "from sklearn.decomposition import PCA\n",
    "from sklearn.preprocessing import StandardScaler"
   ]
  },
  {
   "cell_type": "code",
   "execution_count": 33,
   "metadata": {},
   "outputs": [],
   "source": [
    "# Obtiene una lista con las columnas categoricas a partir de una diferencia de conjuntos\n",
    "def getCategoricalColumns(df):\n",
    "    cols = set(df.columns)\n",
    "    numColumns = set(df._get_numeric_data().columns)\n",
    "    \n",
    "    return list(cols - numColumns)\n",
    "\n",
    "# Convierte las variables categoricas en numericas en base a label encoding\n",
    "def getNumericDataset(df):\n",
    "    categoricalColumns = getCategoricalColumns(df)\n",
    "    numDataset = df.drop(columns= categoricalColumns)\n",
    "    categoricalDataset = df[categoricalColumns]\n",
    "\n",
    "    le = preprocessing.LabelEncoder()\n",
    "    for i in categoricalColumns:\n",
    "        categoricalDataset[i] = le.fit_transform(categoricalDataset[i])\n",
    "    \n",
    "    for i in categoricalColumns:\n",
    "        numDataset[i] = categoricalDataset[i]\n",
    "    \n",
    "    return numDataset"
   ]
  },
  {
   "cell_type": "code",
   "execution_count": 34,
   "metadata": {},
   "outputs": [],
   "source": [
    "def scaler(df):\n",
    "    scaler = StandardScaler()\n",
    "    return scaler.fit_transform(df)"
   ]
  },
  {
   "cell_type": "code",
   "execution_count": 40,
   "metadata": {},
   "outputs": [],
   "source": [
    "def reduce_csv(csv_file):\n",
    "    df = dd.read_csv(csv_file)\n",
    "    df = df.drop(columns = [\"Unnamed: 0\"])\n",
    "\n",
    "    x = getNumericDataset(df)\n",
    "    columns = list(x.columns)\n",
    "    x = scaler(x)\n",
    "    \n",
    "    pca = PCA(n_components=.8, svd_solver='full')\n",
    "    pca.fit(x)\n",
    "    # \n",
    "    reduced = []\n",
    "    for i in range(0, len(pca.explained_variance_ratio_)):\n",
    "        reduced.append(columns[i])\n",
    "    return reduced\n"
   ]
  },
  {
   "cell_type": "code",
   "execution_count": 41,
   "metadata": {},
   "outputs": [
    {
     "data": {
      "text/plain": [
       "['YEAR_JOINED',\n",
       " 'CURRENT_YEAR',\n",
       " 'BILL_AMOUNT',\n",
       " 'PAID_AMOUNT',\n",
       " 'PAYMENT_TRANSACTIONS',\n",
       " 'PARTY_REV',\n",
       " 'PREPAID_LINES',\n",
       " 'POSTPAID_LINES',\n",
       " 'OTHER_LINES',\n",
       " 'LINE_REV',\n",
       " 'MOUS_TO_LOCAL_MOBILES',\n",
       " 'MOUS_FROM_LOCAL_MOBILES',\n",
       " 'MOUS_TO_LOCAL_LANDLINES',\n",
       " 'MOUS_FROM_LOCAL_LANDLINES',\n",
       " 'MOUS_TO_INT_NUMBER']"
      ]
     },
     "execution_count": 41,
     "metadata": {},
     "output_type": "execute_result"
    }
   ],
   "source": [
    "reduce_csv(\"/home/alt9193/Documents/IA/DeepLearningBackend/examples/telecom_churn_me.csv\")"
   ]
  }
 ],
 "metadata": {
  "kernelspec": {
   "display_name": "Python 3.10.8 64-bit",
   "language": "python",
   "name": "python3"
  },
  "language_info": {
   "codemirror_mode": {
    "name": "ipython",
    "version": 3
   },
   "file_extension": ".py",
   "mimetype": "text/x-python",
   "name": "python",
   "nbconvert_exporter": "python",
   "pygments_lexer": "ipython3",
   "version": "3.10.8"
  },
  "orig_nbformat": 4,
  "vscode": {
   "interpreter": {
    "hash": "916dbcbb3f70747c44a77c7bcd40155683ae19c65e1c03b4aa3499c5328201f1"
   }
  }
 },
 "nbformat": 4,
 "nbformat_minor": 2
}
