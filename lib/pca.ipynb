{
 "cells": [
  {
   "cell_type": "code",
   "execution_count": 46,
   "metadata": {},
   "outputs": [],
   "source": [
    "import pandas as pd\n",
    "import dask.dataframe as dd\n",
    "from dask_ml import preprocessing\n",
    "from sklearn.decomposition import PCA\n",
    "from sklearn.preprocessing import StandardScaler"
   ]
  },
  {
   "cell_type": "code",
   "execution_count": 47,
   "metadata": {},
   "outputs": [],
   "source": [
    "target = [\"TARGET\", \"Target\", \"target\", \"CHURN\", \"Churn\", \"churn\", \"RESULT\", \"Result\", \"result\"]"
   ]
  },
  {
   "cell_type": "code",
   "execution_count": 48,
   "metadata": {},
   "outputs": [],
   "source": [
    "# Obtiene una lista con las columnas categoricas a partir de una diferencia de conjuntos\n",
    "def getCategoricalColumns(df):\n",
    "    cols = set(df.columns)\n",
    "    numColumns = set(df._get_numeric_data().columns)\n",
    "    \n",
    "    return list(cols - numColumns)\n",
    "\n",
    "# Convierte las variables categoricas en numericas en base a label encoding\n",
    "def getNumericDataset(df):\n",
    "    categoricalColumns = getCategoricalColumns(df)\n",
    "    numDataset = df.drop(columns= categoricalColumns)\n",
    "    categoricalDataset = df[categoricalColumns]\n",
    "\n",
    "    le = preprocessing.LabelEncoder()\n",
    "    for i in categoricalColumns:\n",
    "        categoricalDataset[i] = le.fit_transform(categoricalDataset[i])\n",
    "    \n",
    "    for i in categoricalColumns:\n",
    "        numDataset[i] = categoricalDataset[i]\n",
    "    \n",
    "    return numDataset"
   ]
  },
  {
   "cell_type": "code",
   "execution_count": 49,
   "metadata": {},
   "outputs": [],
   "source": [
    "def scaler(df):\n",
    "    scaler = StandardScaler()\n",
    "    return scaler.fit_transform(df)"
   ]
  },
  {
   "cell_type": "code",
   "execution_count": 105,
   "metadata": {},
   "outputs": [],
   "source": [
    "def reduce_csv(csv_file):\n",
    "    df = dd.read_csv(csv_file)\n",
    "    result = df[df.columns.intersection(target)]\n",
    "    df = df.drop(columns= target + [\"Unnamed: 0\"], errors='ignore')\n",
    "    \n",
    "    x = getNumericDataset(df)\n",
    "    columns = list(x.columns)\n",
    "    x = scaler(x)\n",
    "    \n",
    "    pca = PCA(n_components=.8, svd_solver='full')\n",
    "    pca.fit(x)\n",
    "\n",
    "    reduced = []\n",
    "    for i in range(0, len(pca.explained_variance_ratio_)):\n",
    "        print(i)\n",
    "        reduced.append(columns[i])   \n",
    "\n",
    "    result[reduced] = df[reduced]\n",
    "\n",
    "    result.to_csv(csv_file, index=False, single_file=True)\n"
   ]
  },
  {
   "cell_type": "code",
   "execution_count": 106,
   "metadata": {},
   "outputs": [
    {
     "name": "stdout",
     "output_type": "stream",
     "text": [
      "0\n",
      "1\n",
      "2\n",
      "3\n",
      "4\n",
      "5\n",
      "6\n",
      "7\n",
      "8\n",
      "9\n",
      "10\n",
      "11\n",
      "12\n",
      "13\n",
      "14\n"
     ]
    }
   ],
   "source": [
    "df, n, b =reduce_csv(\"/home/alt9193/Documents/IA/DeepLearningBackend/examples/telecom_churn_me.csv\")"
   ]
  },
  {
   "cell_type": "code",
   "execution_count": 107,
   "metadata": {},
   "outputs": [
    {
     "data": {
      "text/plain": [
       "['YEAR_JOINED',\n",
       " 'CURRENT_YEAR',\n",
       " 'BILL_AMOUNT',\n",
       " 'PAID_AMOUNT',\n",
       " 'PAYMENT_TRANSACTIONS',\n",
       " 'PARTY_REV',\n",
       " 'PREPAID_LINES',\n",
       " 'POSTPAID_LINES',\n",
       " 'OTHER_LINES',\n",
       " 'LINE_REV',\n",
       " 'MOUS_TO_LOCAL_MOBILES',\n",
       " 'MOUS_FROM_LOCAL_MOBILES',\n",
       " 'MOUS_TO_LOCAL_LANDLINES',\n",
       " 'MOUS_FROM_LOCAL_LANDLINES',\n",
       " 'MOUS_TO_INT_NUMBER']"
      ]
     },
     "execution_count": 107,
     "metadata": {},
     "output_type": "execute_result"
    }
   ],
   "source": [
    "b"
   ]
  },
  {
   "cell_type": "code",
   "execution_count": 108,
   "metadata": {},
   "outputs": [
    {
     "data": {
      "text/html": [
       "<div><strong>Dask DataFrame Structure:</strong></div>\n",
       "<div>\n",
       "<style scoped>\n",
       "    .dataframe tbody tr th:only-of-type {\n",
       "        vertical-align: middle;\n",
       "    }\n",
       "\n",
       "    .dataframe tbody tr th {\n",
       "        vertical-align: top;\n",
       "    }\n",
       "\n",
       "    .dataframe thead th {\n",
       "        text-align: right;\n",
       "    }\n",
       "</style>\n",
       "<table border=\"1\" class=\"dataframe\">\n",
       "  <thead>\n",
       "    <tr style=\"text-align: right;\">\n",
       "      <th></th>\n",
       "      <th>TARGET</th>\n",
       "      <th>YEAR_JOINED</th>\n",
       "      <th>CURRENT_YEAR</th>\n",
       "      <th>BILL_AMOUNT</th>\n",
       "      <th>PAID_AMOUNT</th>\n",
       "      <th>PAYMENT_TRANSACTIONS</th>\n",
       "      <th>PARTY_REV</th>\n",
       "      <th>PREPAID_LINES</th>\n",
       "      <th>POSTPAID_LINES</th>\n",
       "      <th>OTHER_LINES</th>\n",
       "      <th>LINE_REV</th>\n",
       "      <th>MOUS_TO_LOCAL_MOBILES</th>\n",
       "      <th>MOUS_FROM_LOCAL_MOBILES</th>\n",
       "      <th>MOUS_TO_LOCAL_LANDLINES</th>\n",
       "      <th>MOUS_FROM_LOCAL_LANDLINES</th>\n",
       "      <th>MOUS_TO_INT_NUMBER</th>\n",
       "    </tr>\n",
       "    <tr>\n",
       "      <th>npartitions=3</th>\n",
       "      <th></th>\n",
       "      <th></th>\n",
       "      <th></th>\n",
       "      <th></th>\n",
       "      <th></th>\n",
       "      <th></th>\n",
       "      <th></th>\n",
       "      <th></th>\n",
       "      <th></th>\n",
       "      <th></th>\n",
       "      <th></th>\n",
       "      <th></th>\n",
       "      <th></th>\n",
       "      <th></th>\n",
       "      <th></th>\n",
       "      <th></th>\n",
       "    </tr>\n",
       "  </thead>\n",
       "  <tbody>\n",
       "    <tr>\n",
       "      <th></th>\n",
       "      <td>int64</td>\n",
       "      <td>int64</td>\n",
       "      <td>int64</td>\n",
       "      <td>float64</td>\n",
       "      <td>float64</td>\n",
       "      <td>int64</td>\n",
       "      <td>float64</td>\n",
       "      <td>int64</td>\n",
       "      <td>int64</td>\n",
       "      <td>int64</td>\n",
       "      <td>float64</td>\n",
       "      <td>float64</td>\n",
       "      <td>float64</td>\n",
       "      <td>float64</td>\n",
       "      <td>float64</td>\n",
       "      <td>float64</td>\n",
       "    </tr>\n",
       "    <tr>\n",
       "      <th></th>\n",
       "      <td>...</td>\n",
       "      <td>...</td>\n",
       "      <td>...</td>\n",
       "      <td>...</td>\n",
       "      <td>...</td>\n",
       "      <td>...</td>\n",
       "      <td>...</td>\n",
       "      <td>...</td>\n",
       "      <td>...</td>\n",
       "      <td>...</td>\n",
       "      <td>...</td>\n",
       "      <td>...</td>\n",
       "      <td>...</td>\n",
       "      <td>...</td>\n",
       "      <td>...</td>\n",
       "      <td>...</td>\n",
       "    </tr>\n",
       "    <tr>\n",
       "      <th></th>\n",
       "      <td>...</td>\n",
       "      <td>...</td>\n",
       "      <td>...</td>\n",
       "      <td>...</td>\n",
       "      <td>...</td>\n",
       "      <td>...</td>\n",
       "      <td>...</td>\n",
       "      <td>...</td>\n",
       "      <td>...</td>\n",
       "      <td>...</td>\n",
       "      <td>...</td>\n",
       "      <td>...</td>\n",
       "      <td>...</td>\n",
       "      <td>...</td>\n",
       "      <td>...</td>\n",
       "      <td>...</td>\n",
       "    </tr>\n",
       "    <tr>\n",
       "      <th></th>\n",
       "      <td>...</td>\n",
       "      <td>...</td>\n",
       "      <td>...</td>\n",
       "      <td>...</td>\n",
       "      <td>...</td>\n",
       "      <td>...</td>\n",
       "      <td>...</td>\n",
       "      <td>...</td>\n",
       "      <td>...</td>\n",
       "      <td>...</td>\n",
       "      <td>...</td>\n",
       "      <td>...</td>\n",
       "      <td>...</td>\n",
       "      <td>...</td>\n",
       "      <td>...</td>\n",
       "      <td>...</td>\n",
       "    </tr>\n",
       "  </tbody>\n",
       "</table>\n",
       "</div>\n",
       "<div>Dask Name: assign, 35 graph layers</div>"
      ],
      "text/plain": [
       "Dask DataFrame Structure:\n",
       "              TARGET YEAR_JOINED CURRENT_YEAR BILL_AMOUNT PAID_AMOUNT PAYMENT_TRANSACTIONS PARTY_REV PREPAID_LINES POSTPAID_LINES OTHER_LINES LINE_REV MOUS_TO_LOCAL_MOBILES MOUS_FROM_LOCAL_MOBILES MOUS_TO_LOCAL_LANDLINES MOUS_FROM_LOCAL_LANDLINES MOUS_TO_INT_NUMBER\n",
       "npartitions=3                                                                                                                                                                                                                                                            \n",
       "               int64       int64        int64     float64     float64                int64   float64         int64          int64       int64  float64               float64                 float64                 float64                   float64            float64\n",
       "                 ...         ...          ...         ...         ...                  ...       ...           ...            ...         ...      ...                   ...                     ...                     ...                       ...                ...\n",
       "                 ...         ...          ...         ...         ...                  ...       ...           ...            ...         ...      ...                   ...                     ...                     ...                       ...                ...\n",
       "                 ...         ...          ...         ...         ...                  ...       ...           ...            ...         ...      ...                   ...                     ...                     ...                       ...                ...\n",
       "Dask Name: assign, 35 graph layers"
      ]
     },
     "execution_count": 108,
     "metadata": {},
     "output_type": "execute_result"
    }
   ],
   "source": [
    "df"
   ]
  },
  {
   "cell_type": "code",
   "execution_count": 109,
   "metadata": {},
   "outputs": [
    {
     "data": {
      "text/plain": [
       "15"
      ]
     },
     "execution_count": 109,
     "metadata": {},
     "output_type": "execute_result"
    }
   ],
   "source": [
    "n"
   ]
  },
  {
   "cell_type": "code",
   "execution_count": 110,
   "metadata": {},
   "outputs": [
    {
     "data": {
      "text/plain": [
       "16"
      ]
     },
     "execution_count": 110,
     "metadata": {},
     "output_type": "execute_result"
    }
   ],
   "source": [
    "len(df.columns)"
   ]
  }
 ],
 "metadata": {
  "kernelspec": {
   "display_name": "Python 3.10.8 64-bit",
   "language": "python",
   "name": "python3"
  },
  "language_info": {
   "codemirror_mode": {
    "name": "ipython",
    "version": 3
   },
   "file_extension": ".py",
   "mimetype": "text/x-python",
   "name": "python",
   "nbconvert_exporter": "python",
   "pygments_lexer": "ipython3",
   "version": "3.10.8"
  },
  "orig_nbformat": 4,
  "vscode": {
   "interpreter": {
    "hash": "916dbcbb3f70747c44a77c7bcd40155683ae19c65e1c03b4aa3499c5328201f1"
   }
  }
 },
 "nbformat": 4,
 "nbformat_minor": 2
}
