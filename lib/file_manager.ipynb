{
 "cells": [
  {
   "cell_type": "code",
   "execution_count": 53,
   "metadata": {},
   "outputs": [],
   "source": [
    "import os\n",
    "import json\n",
    "\n",
    "\n",
    "import model"
   ]
  },
  {
   "cell_type": "code",
   "execution_count": 54,
   "metadata": {},
   "outputs": [],
   "source": [
    "import csv"
   ]
  },
  {
   "cell_type": "code",
   "execution_count": 55,
   "metadata": {},
   "outputs": [],
   "source": [
    "# Utilidades para manejar los jsons\n",
    "# -----------------------------------------------\n",
    "\n",
    "def write_json_file(json_file, data):\n",
    "    with open(json_file + \"\", 'w') as outfile:\n",
    "        json.dump(data, outfile)\n",
    "\n",
    "def read_json_file(json_file):\n",
    "    with open(json_file) as read_file:\n",
    "        data = json.load(read_file)\n",
    "    return data\n",
    "\n",
    "def rewrite_json_file(json_file, attribute, new_data):\n",
    "    data = {}\n",
    "    with open(json_file) as read_file:\n",
    "        data = json.load(read_file)\n",
    "    data[attribute] = new_data\n",
    "    write_json_file(json_file, data)\n",
    "\n",
    "# Utilidades para el servidor\n",
    "# -----------------------------------------------\n",
    "def get_server_dir(SERVER_FILE):\n",
    "    return os.path.dirname(os.path.realpath(SERVER_FILE))\n",
    "\n",
    "def write_server_file(SERVER_FILE, working_dir):\n",
    "    working_data = {\n",
    "        \"working_dir\" : working_dir,\n",
    "        \n",
    "    }\n",
    "\n",
    "    server_file = get_server_dir(SERVER_FILE) + \"/server.json\"\n",
    "    write_json_file(server_file, working_data)"
   ]
  },
  {
   "cell_type": "code",
   "execution_count": 56,
   "metadata": {},
   "outputs": [],
   "source": [
    "data = {\"rows\" : [\n",
    "    [\"\",\"CUSTOMER_ID\",\"YEAR_JOINED\",\"CURRENT_YEAR\",\"BILL_AMOUNT\",\"PAID_AMOUNT\",\"PAYMENT_TRANSACTIONS\",\"PARTY_REV\",\"PREPAID_LINES\",\"POSTPAID_LINES\",\"OTHER_LINES\",\"LINE_REV\",\"MOUS_TO_LOCAL_MOBILES\",\"MOUS_FROM_LOCAL_MOBILES\",\"MOUS_TO_LOCAL_LANDLINES\",\"MOUS_FROM_LOCAL_LANDLINES\",\"MOUS_TO_INT_NUMBER\",\"MOUS_FROM_INT_NUMBER\",\"DATA_IN_BNDL\",\"DATA_OUT_BNDL\",\"CHURN_PERCENTAGE\"],\n",
    "    [\"0\",\"0.0\",\"1994.0\",\"2019.0\",\"931.2089381866666\",\"812.1749999999998\",\"1.0\",\"5968.700000000001\",\"2.0\",\"6.0\",\"2.0\",\"945.04\",\"1004.07\",\"35.85\",\"34.015\",\"72.075\",\"141.84\",\"56.115\",\"11944.0791015625\",\"0.0\",\"0.008425625423383248\"],\n",
    "    [\"1\",\"1.0\",\"1994.0\",\"2019.0\",\"431.0826183133333\",\"486.5\",\"1.0\",\"6245.141666666666\",\"6.0\",\"4.0\",\"2.0\",\"493.815\",\"159.05\",\"10.595\",\"7.715\",\"11.75\",\"5.109999999999999\",\"0.0\",\"9903.15771484375\",\"0.0\",\"0.010224295351946702\"]\n",
    "]}"
   ]
  },
  {
   "cell_type": "code",
   "execution_count": 57,
   "metadata": {},
   "outputs": [],
   "source": [
    "def json_to_csv(data, csv_file):\n",
    "    data_file = open(csv_file, 'w', newline='')\n",
    "    csv_writer = csv.writer(data_file)\n",
    "\n",
    "    # Nombres de columnas\n",
    "    csv_writer.writerow(data[\"rows\"][0])\n",
    "\n",
    "    # Informacion de columnas\n",
    "    for row in data[\"rows\"][1:]:\n",
    "        csv_writer.writerow(row)\n",
    "    data_file.close()"
   ]
  },
  {
   "cell_type": "code",
   "execution_count": 58,
   "metadata": {},
   "outputs": [],
   "source": [
    "def new_dir(SERVER_FILE, name, data):\n",
    "    working_dir = get_server_dir(SERVER_FILE) + \"/uploads/\" + name\n",
    "    os.makedirs(working_dir, exist_ok=True)\n",
    "    write_server_file(SERVER_FILE, working_dir)\n",
    "\n",
    "    csv_file = working_dir + \"/\" + name + \".csv\"\n",
    "    json_to_csv(data, csv_file)\n",
    "\n",
    "    # \"churn_segment\" : [porcentaje1, porcentaje2, porcentaje3],\n",
    "    # sort growing / decreasing\n",
    "    # \"group\" : [{\"name\" : \"uno\",  \"percentage\": 20}]\n",
    "    about = {\n",
    "        \"churn_segment\" : [.20, .50, .70],\n",
    "        \"sort\" : \"growing\",\n",
    "        \"group\" : []\n",
    "    }\n",
    "\n",
    "    write_json_file(working_dir + \"/about.json\", about)"
   ]
  },
  {
   "cell_type": "code",
   "execution_count": 59,
   "metadata": {},
   "outputs": [],
   "source": [
    "SERVER_FILE = \"/home/alt9193/Documents/IA/DeepLearningBackend/server.py\""
   ]
  },
  {
   "cell_type": "code",
   "execution_count": 60,
   "metadata": {},
   "outputs": [],
   "source": [
    "new_dir(SERVER_FILE, \"test\", data)"
   ]
  }
 ],
 "metadata": {
  "kernelspec": {
   "display_name": "Python 3.10.8 64-bit",
   "language": "python",
   "name": "python3"
  },
  "language_info": {
   "codemirror_mode": {
    "name": "ipython",
    "version": 3
   },
   "file_extension": ".py",
   "mimetype": "text/x-python",
   "name": "python",
   "nbconvert_exporter": "python",
   "pygments_lexer": "ipython3",
   "version": "3.10.8"
  },
  "orig_nbformat": 4,
  "vscode": {
   "interpreter": {
    "hash": "916dbcbb3f70747c44a77c7bcd40155683ae19c65e1c03b4aa3499c5328201f1"
   }
  }
 },
 "nbformat": 4,
 "nbformat_minor": 2
}
