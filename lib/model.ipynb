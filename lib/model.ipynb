{
 "cells": [
  {
   "cell_type": "code",
   "execution_count": 73,
   "metadata": {},
   "outputs": [],
   "source": [
    "import dask.dataframe as dd\n",
    "import pandas as pd\n",
    "import numpy as np\n",
    "from sklearn.model_selection import train_test_split\n",
    "from sklearn.metrics import confusion_matrix\n",
    "\n",
    "from joblib import load\n",
    "\n",
    "# ///////////////////////////////////////////////\n",
    "#function to get all clients churn probability: 0 means no churn, 1 means churn\n",
    "def getChurnProbabilities(random_forest, x):\n",
    "    return random_forest.predict_proba(x)\n",
    "\n",
    "def showProbabilities(low,mid,high, proba_matrix, x):\n",
    "    clients_permanent = []\n",
    "    clients_low = []\n",
    "    clients_mid = []\n",
    "    clients_high = []\n",
    "    i = 0\n",
    "    \n",
    "    #for each client in the data set\n",
    "    for client in proba_matrix:\n",
    "        #get all their data and their churn chance into one list\n",
    "        client_index = x.index[i]\n",
    "        client_info = x.loc[client_index].values\n",
    "        client_info = np.append(client_info,client[1])\n",
    "        #store client data into profiles(permanent, low, mid, high) list\n",
    "        if client[1] < low:\n",
    "            clients_permanent.append(client_info)\n",
    "        elif client[1] < mid:\n",
    "            clients_low.append(client_info)\n",
    "        elif client[1] < high:\n",
    "            clients_mid.append(client_info)\n",
    "        else:\n",
    "            clients_high.append(client_info)\n",
    "        i += 1\n",
    "    return clients_permanent, clients_low, clients_mid, clients_high\n",
    "\n",
    "#function to get each groups relevance in terms of bill amount by getting the sum of a determined group\n",
    "def getClassificationSum(churn_group, x):\n",
    "    names = x.columns.to_list()\n",
    "    names[0] = \"CUSTOMER_ID\"\n",
    "    names.append('CHURN_PERCENTAGE')\n",
    "    clients_high_pd = pd.DataFrame(churn_group, columns = names)\n",
    "    churn_bill_value = clients_high_pd['BILL_AMOUNT'].sum()\n",
    "    return churn_bill_value\n",
    "\n",
    "# -----------------------------------------------\n",
    "def make_clusters(file):\n",
    "    return 1\n",
    "\n",
    "# cluster: archivo csv donde se encuentra un cluster\n",
    "# cs1, cs2, cs3: rangos de churn segment\n",
    "def make_perfiles(cluster, cs1, cs2, cs3):\n",
    "    # Lee el cluster\n",
    "    print(cluster + \"/cluster.csv\")\n",
    "    df = dd.read_csv(cluster + \"/cluster.csv\")\n",
    "    x = df.drop(columns=['TARGET']).compute()\n",
    "\n",
    "    # Obtiene la probabilidad de churn de todos los elementos del cluster\n",
    "    random_forest = load('random_forest_churn.joblib')\n",
    "    proba_matrix = getChurnProbabilities(random_forest, x)\n",
    "\n",
    "    # Segmenta los elementos del cluster\n",
    "    segments = []\n",
    "    segments = showProbabilities(cs1, cs2, cs3, proba_matrix, x)\n",
    "\n",
    "    names = x.columns.to_list()\n",
    "    names[0] = \"CUSTOMER_ID\"\n",
    "    names.append('CHURN_PERCENTAGE')\n",
    "    \n",
    "    i = 0\n",
    "    for segment in segments:\n",
    "        df = pd.DataFrame(segment, columns = names)\n",
    "        df.to_csv(cluster +  \"/\" + str(i) + \".csv\")\n",
    "        i += 1\n"
   ]
  },
  {
   "cell_type": "code",
   "execution_count": 78,
   "metadata": {},
   "outputs": [
    {
     "name": "stdout",
     "output_type": "stream",
     "text": [
      "/home/alt9193/Documents/IA/DeepLearningBackend//cluster.csv\n"
     ]
    }
   ],
   "source": [
    "make_perfiles(\"/home/alt9193/Documents/IA/DeepLearningBackend/\", .2 , .5, .7)"
   ]
  },
  {
   "cell_type": "code",
   "execution_count": 79,
   "metadata": {},
   "outputs": [],
   "source": [
    "def make_perfiles_info(cluster):\n",
    "    info = [{}, {}, {}, {}]\n",
    "    for i in range(4):\n",
    "        df = dd.read_csv(cluster + \"/\" + str(i) + \".csv\")\n",
    "\n",
    "        AMOUNT = df.shape[0].compute()\n",
    "        BILL_AMOUNT = df['BILL_AMOUNT'].sum().compute()\n",
    "        PREPAID_LINES = df['PREPAID_LINES'].sum().compute()\n",
    "        POSTPAID_LINES = df['POSTPAID_LINES'].sum().compute()\n",
    "        OTHER_LINES = df['OTHER_LINES'].sum().compute()\n",
    "        PARTY_REV = df['PARTY_REV'].sum().compute()\n",
    "\n",
    "        info[i] = {\n",
    "            \"amount\" : AMOUNT,\n",
    "            \"bill amount\" : BILL_AMOUNT,\n",
    "            \"lines\" : [{\"type\" : \"PREPAID_LINES\", \"amount\" : PREPAID_LINES},{\"type\" : \"POSTPAID_LINES\", \"amount\" : POSTPAID_LINES}, {\"type\" : \"OTHER_LINES\", \"amount\" : OTHER_LINES}],\n",
    "            \"revenues\" : PARTY_REV\n",
    "        }\n",
    "\n",
    "    return info"
   ]
  },
  {
   "cell_type": "code",
   "execution_count": 80,
   "metadata": {},
   "outputs": [
    {
     "data": {
      "text/plain": [
       "[{'amount': 4,\n",
       "  'bill amount': 1812.6212345821666,\n",
       "  'lines': [{'type': 'PREPAID_LINES', 'amount': 13.0},\n",
       "   {'type': 'POSTPAID_LINES', 'amount': 17.0},\n",
       "   {'type': 'OTHER_LINES', 'amount': 8.0}],\n",
       "  'revenues': 16402.338333333333},\n",
       " {'amount': 0,\n",
       "  'bill amount': 0,\n",
       "  'lines': [{'type': 'PREPAID_LINES', 'amount': 0},\n",
       "   {'type': 'POSTPAID_LINES', 'amount': 0},\n",
       "   {'type': 'OTHER_LINES', 'amount': 0}],\n",
       "  'revenues': 0},\n",
       " {'amount': 0,\n",
       "  'bill amount': 0,\n",
       "  'lines': [{'type': 'PREPAID_LINES', 'amount': 0},\n",
       "   {'type': 'POSTPAID_LINES', 'amount': 0},\n",
       "   {'type': 'OTHER_LINES', 'amount': 0}],\n",
       "  'revenues': 0},\n",
       " {'amount': 0,\n",
       "  'bill amount': 0,\n",
       "  'lines': [{'type': 'PREPAID_LINES', 'amount': 0},\n",
       "   {'type': 'POSTPAID_LINES', 'amount': 0},\n",
       "   {'type': 'OTHER_LINES', 'amount': 0}],\n",
       "  'revenues': 0}]"
      ]
     },
     "execution_count": 80,
     "metadata": {},
     "output_type": "execute_result"
    }
   ],
   "source": [
    "make_perfiles_info(\"/home/alt9193/Documents/IA/DeepLearningBackend/\")"
   ]
  }
 ],
 "metadata": {
  "kernelspec": {
   "display_name": "Python 3.10.8 64-bit",
   "language": "python",
   "name": "python3"
  },
  "language_info": {
   "codemirror_mode": {
    "name": "ipython",
    "version": 3
   },
   "file_extension": ".py",
   "mimetype": "text/x-python",
   "name": "python",
   "nbconvert_exporter": "python",
   "pygments_lexer": "ipython3",
   "version": "3.10.8"
  },
  "orig_nbformat": 4,
  "vscode": {
   "interpreter": {
    "hash": "916dbcbb3f70747c44a77c7bcd40155683ae19c65e1c03b4aa3499c5328201f1"
   }
  }
 },
 "nbformat": 4,
 "nbformat_minor": 2
}
